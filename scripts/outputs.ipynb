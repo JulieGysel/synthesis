{
 "cells": [
  {
   "cell_type": "markdown",
   "metadata": {},
   "source": [
    "### Input data\n",
    "Csv file in the format\n",
    "```\n",
    "program, method, memory size, explored, optimum, time, design space size\n",
    "```\n",
    "that contains the results of runnig PAYNT for a set amount of time for each program and setup (using the basic Iterative Approach, Memory Injection Approach, and Incremental restrictions Approach)."
   ]
  },
  {
   "cell_type": "code",
   "execution_count": null,
   "metadata": {},
   "outputs": [],
   "source": [
    "import pandas as pd\n",
    "import seaborn as sns\n",
    "import matplotlib.pyplot as plt\n",
    "from matplotlib.ticker import FuncFormatter\n",
    "import numpy as np\n",
    "\n",
    "\n",
    "out = pd.read_csv(\"../workspace/log_old/output.csv\", sep=\",\",\n",
    "                  names=[\"program\", \"Approach\", \"method\", \"memory_size\", \"explored\",\n",
    "                         \"optimum\", \"time\", \"design_space_size\", \"iterations\"],\n",
    "                  )\n",
    "out[\"optimum\"] = pd.to_numeric(out[\"optimum\"], errors=\"coerce\")\n",
    "out[\"time\"] = pd.to_numeric(out[\"time\"], errors=\"coerce\")\n",
    "out[\"memory_size\"] = pd.to_numeric(out[\"memory_size\"], errors=\"coerce\")\n",
    "out = out.where(out[\"time\"] > 0).dropna()\n",
    "out[\"Approach\"] = out[\"Approach\"].replace(\"Full incremental\", \"Incremental\")\n",
    "out = out.where(out[\"memory_size\"] > 1).dropna()\n",
    "copy = out\n",
    "\n",
    "out.where((out[\"program\"].str.contains(\"maze_long\")) ).dropna()"
   ]
  },
  {
   "cell_type": "code",
   "execution_count": null,
   "metadata": {},
   "outputs": [],
   "source": [
    "group = copy.groupby([\"program\",\"memory_size\", \"method\", ]).last().reset_index()\n",
    "group"
   ]
  },
  {
   "cell_type": "code",
   "execution_count": null,
   "metadata": {},
   "outputs": [],
   "source": [
    "for program in group[\"program\"].unique():\n",
    "    f = open(\"tables/table_{}.tex\".format(program[25:-13].replace(\"/\", \"_\")), \"w\")\n",
    "    f.write(\n",
    "        group.where(group[\"program\"] == program).dropna()[[\"method\",\"memory_size\", \"optimum\", \"time\"]].to_latex(index=False)\n",
    "    )\n"
   ]
  },
  {
   "cell_type": "code",
   "execution_count": null,
   "metadata": {},
   "outputs": [],
   "source": [
    "grouped = out.where((out[\"program\"].str.contains(\"grid\")) & (out[\"program\"].str.contains(\"simple\") == False)).dropna().groupby([\n",
    "    \"program\", \"Approach\", \"memory_size\"\n",
    "]).agg({\"optimum\": \"max\", \"time\": \"sum\"})\n",
    "\n",
    "grouped = grouped.append(\n",
    "    out.where(\n",
    "        (out[\"program\"].str.contains(\"grid\")) & (out[\"program\"].str.contains(\"simple\")) |\n",
    "        (out[\"program\"].str.contains(\"maze\"))\n",
    "    ).dropna().groupby([\n",
    "        \"program\", \"Approach\", \"memory_size\"\n",
    "    ]).agg({\"optimum\": \"min\", \"time\": \"sum\"})\n",
    ")\n",
    "grouped = grouped.reset_index()\n",
    "grouped"
   ]
  },
  {
   "cell_type": "code",
   "execution_count": null,
   "metadata": {},
   "outputs": [],
   "source": [
    "sns.set(font_scale = 1.2, style=\"whitegrid\")"
   ]
  },
  {
   "cell_type": "code",
   "execution_count": null,
   "metadata": {},
   "outputs": [],
   "source": [
    "for program in grouped[\"program\"].unique():\n",
    "    grid = sns.relplot(\n",
    "                data=grouped.where(grouped[\"program\"] == program), #.dropna(),\n",
    "                x=\"memory_size\",\n",
    "                y=\"optimum\",\n",
    "                kind=\"line\",\n",
    "                hue=\"Approach\",\n",
    "                hue_order=[\"Incremental\", \"Injection\", \"Iterative\"],\n",
    "                legend=\"full\",\n",
    "                height=5,\n",
    "                aspect=1.8,\n",
    "                facet_kws={'sharey': False, 'sharex': False},\n",
    "                alpha=0.7,\n",
    "            )\n",
    "    grid.set(title=program[25:-13].replace(\"/\", \" \").replace(\"_\", \" \").capitalize())\n",
    "    grid.set_xlabels(\"Memory size\")\n",
    "    grid.set_ylabels(\"Optimum\")\n",
    "    grid.savefig(\"../workspace/log/\" +\n",
    "                 program[25:-13].replace(\"/\", \"_\") + \"_mem_x_opt.png\")\n"
   ]
  },
  {
   "cell_type": "code",
   "execution_count": null,
   "metadata": {},
   "outputs": [],
   "source": [
    "out[\"time_sum\"] = out.groupby([\"program\", \"Approach\"]).time.transform(pd.Series.cumsum)\n",
    "\n",
    "for program in out[\"program\"].unique():\n",
    "    grid = sns.relplot(\n",
    "                data=out.where(out[\"program\"] == program), \n",
    "                x=\"time_sum\",\n",
    "                y=\"optimum\",\n",
    "                kind=\"line\",\n",
    "                hue=\"Approach\",\n",
    "                hue_order=[\"Incremental\", \"Injection\", \"Iterative\"],\n",
    "                legend=\"full\",\n",
    "                height=5,\n",
    "                aspect=1.8,\n",
    "                facet_kws={'sharey': False, 'sharex': False},\n",
    "                alpha=0.7,\n",
    "            )\n",
    "    grid.set(xscale=\"log\")\n",
    "\n",
    "    grid.set(title=program[25:-13].replace(\"/\", \" \").replace(\"_\", \" \").capitalize())\n",
    "    grid.set_xlabels(\"Time [s]\")\n",
    "    grid.set_ylabels(\"Optimum\")\n",
    "    for ax in grid.axes.flat:\n",
    "        ax.xaxis.set_major_formatter(FuncFormatter(lambda y, _: '{:.16g}'.format(y)))\n",
    "    grid.savefig(\"../workspace/log/\" +\n",
    "                 program[25:-13].replace(\"/\", \"_\") + \"_time_x_opt.png\")\n"
   ]
  }
 ],
 "metadata": {
  "kernelspec": {
   "display_name": "Python 3.9.5 64-bit",
   "language": "python",
   "name": "python3"
  },
  "language_info": {
   "codemirror_mode": {
    "name": "ipython",
    "version": 3
   },
   "file_extension": ".py",
   "mimetype": "text/x-python",
   "name": "python",
   "nbconvert_exporter": "python",
   "pygments_lexer": "ipython3",
   "version": "3.10.4"
  },
  "orig_nbformat": 4,
  "vscode": {
   "interpreter": {
    "hash": "e7370f93d1d0cde622a1f8e1c04877d8463912d04d973331ad4851f04de6915a"
   }
  }
 },
 "nbformat": 4,
 "nbformat_minor": 2
}
